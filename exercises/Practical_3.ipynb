{
 "cells": [
  {
   "cell_type": "markdown",
   "id": "299831e6485829a5",
   "metadata": {
    "collapsed": false
   },
   "source": [
    "# Implementing Transformer Models\n",
    "## Practical III\n",
    "Carel van Niekerk & Hsien-Chin Lin\n",
    "\n",
    "21-25.10.2024\n",
    "\n",
    "---\n",
    "\n",
    "In previous practicals, we delved into the attention mechanism, which serves as the foundation of transformer-style models. We noted that such mechanisms necessitate the representation of text as numerical vectors. In this session, we will investigate word tokenizers, which are methods for converting words into meaningful subword units termed as 'tokens'. Specifically, we will implement a basic Byte Pair Encoding (BPE) tokenizer to gain insights into the workings of this kind of tokenizer."
   ]
  },
  {
   "cell_type": "markdown",
   "id": "3db3becedbe2f606",
   "metadata": {
    "collapsed": false
   },
   "source": [
    "### 1. Tokenizers\n",
    "\n",
    "Word tokenizers are used to split text into tokens, which can be words or subwords. In this practical we investigate the BPE tokenizer. BPE is a simple algorithm that iteratively replaces the most frequent pair of characters in a text with a new character. This process is repeated until a predefined number of tokens is reached. The BPE algorithm is described in the following paper: [Neural Machine Translation of Rare Words with Subword Units](https://arxiv.org/pdf/1508.07909.pdf)."
   ]
  },
  {
   "cell_type": "markdown",
   "id": "37c78026959a9180",
   "metadata": {
    "collapsed": false
   },
   "source": [
    "### 2. The Byte-Pair Encoding (BPE) Tokenizer\n",
    "\n",
    "The BPE algorithm is implemented in the following steps:\n",
    "\n",
    "#### 2.1. Building the base vocabulary\n",
    "\n",
    "The base vocabulary is a set of all the characters present in the data. To obtain the base vocabulary, we first find the set of all unique words in a corpus. We then find the set of all unique characters in theses words.\n",
    "\n",
    "For example, given the following set of words:\n",
    "\n",
    "`['hug', 'pug', 'pun', 'bun', 'hugs']`\n",
    "\n",
    "The base vocabulary is:\n",
    "\n",
    "`['h', 'u', 'g', 'p', 'n', 'b', 's']`\n",
    "\n",
    "#### 2.2. Building the BPE vocabulary\n",
    "\n",
    "Once we have the base vocabulary, we learn a set of merges, these are rules indicating which characters should be merged. Each merge becomes a new token in the vocabulary. The merges are learned by iteratively finding the most frequent pair of characters in the data and merging them. This process is repeated until a predefined vocabulary size is reached.\n",
    "\n",
    "Let us assume that each of the above words has a frequency of:\n",
    "\n",
    "`{'hug': 10, 'pug': 5, 'pun': 12, 'bun': 4, 'hugs': 5}`\n",
    "\n",
    "We can now compute the co-occurrence frequencies of all tokens in the vocabulary:\n",
    "\n",
    "`{('h', 'u'): 15, ('u', 'g'): 20, ('p', 'u'): 17, ('u', 'n'): 16, ('b', 'u'): 4, ('g', 's'): 5}`\n",
    "\n",
    "We see that the characters `('u', 'g')` co-occur the most. We create the merge rule `('u', 'g')` resulting in the new token 'ug'. We can now update the vocabulary and co-occurrence frequencies to:\n",
    "\n",
    "`['h', 'u', 'g', 'p', 'n', 'b', 's', 'ug']`\n",
    "\n",
    "`{('p', 'u'): 12, ('u', 'n'): 16, ('b', 'u'): 4, ('h', 'ug'): 15, ('p', 'ug'): 5, ('ug', 's'): 5}`\n",
    "\n",
    "The next merge rule is `('u', 'n')` resulting in the token 'un'.\n",
    "\n",
    "If we stop here we obtain the vocabulary:\n",
    "\n",
    "`['h', 'u', 'g', 'p', 'n', 'b', 's', 'ug', 'un']`\n",
    "\n",
    "and the set of merge rules:\n",
    "\n",
    "`{('u', 'g'): 'ug', ('u', 'n'): 'un'}`.\n",
    "\n",
    "#### 2.3. Encoding a word\n",
    "\n",
    "Based on this vocabulary we can now encode a word. First the word, for example 'pugs', is split into characters:\n",
    "\n",
    "`['p', 'u', 'g', 's']`\n",
    "\n",
    "Then the merge rules are applied to the word (here 'u' and 'g' are combined to become 'ug'):\n",
    "`['p', 'ug', 's']`\n",
    "\n",
    "Finally, the word is encoded as a sequence of tokens:\n",
    "`['p', 'ug', 's']`."
   ]
  },
  {
   "cell_type": "markdown",
   "id": "d78b298bb9fd5735",
   "metadata": {
    "collapsed": false
   },
   "source": [
    "# Exercises\n",
    "\n",
    "1. Implement the BPE tokenizer module. The module should be able to extract the vocubulary from a corpus of text.\n",
    "2. Given the corpus below train your BPE tokenizer. Use a vocabulary size of 64.\n",
    "\n",
    "```python\n",
    "[\n",
    "    \"Machine learning helps in understanding complex patterns.\",\n",
    "    \"Learning machine languages can be complex yet rewarding.\",\n",
    "    \"Natural language processing unlocks valuable insights from data.\",\n",
    "    \"Processing language naturally is a valuable skill in machine learning.\",\n",
    "    \"Understanding natural language is crucial in machine learning.\"\n",
    "]\n",
    "```\n",
    "\n",
    "3. Using the BPETokenizer implementation of Huggingface ([more info](https://pypi.org/project/tokenizers/)) train a BPE tokenizer using the above corpus. Use a vocabulary of size 295 (due to larger default base vocab of this implmentation).\n",
    "4. Tokenize the following sentence: \"Machine learning is a subset of artificial intelligence.\" using both your implementation and the Huggingface implementation\n",
    "\n",
    "### Additional Material\n",
    "- [Huggingface tutorial on BPE](https://huggingface.co/learn/nlp-course/chapter6/5?fw=pt)"
   ]
  },
  {
   "cell_type": "code",
   "execution_count": null,
   "id": "41d3811fe2088cee",
   "metadata": {
    "collapsed": false
   },
   "outputs": [],
   "source": []
  }
 ],
 "metadata": {
  "kernelspec": {
   "display_name": "Python 3 (ipykernel)",
   "language": "python",
   "name": "python3"
  },
  "language_info": {
   "codemirror_mode": {
    "name": "ipython",
    "version": 3
   },
   "file_extension": ".py",
   "mimetype": "text/x-python",
   "name": "python",
   "nbconvert_exporter": "python",
   "pygments_lexer": "ipython3",
   "version": "3.11.4"
  }
 },
 "nbformat": 4,
 "nbformat_minor": 5
}
